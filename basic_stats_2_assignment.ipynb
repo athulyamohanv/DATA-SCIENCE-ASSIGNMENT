{
 "cells": [
  {
   "cell_type": "code",
   "execution_count": null,
   "id": "d110c980-c6ec-4c60-89e5-d1eb5a4479a2",
   "metadata": {},
   "outputs": [],
   "source": [
    "## QUESTION --1"
   ]
  },
  {
   "cell_type": "code",
   "execution_count": null,
   "id": "047590ab-0fd1-423c-998b-0e83d2aaa30a",
   "metadata": {},
   "outputs": [],
   "source": [
    "## a) Build 99% Confidence Interval Using Sample Standard Deviation"
   ]
  },
  {
   "cell_type": "code",
   "execution_count": 46,
   "id": "69e3a617-8615-47a0-8287-ec8165aa49a3",
   "metadata": {},
   "outputs": [],
   "source": [
    "n=15\n",
    "xi=1.13,1.55,1.43,0.92,1.25,1.36,1.32,0.85,1.07,1.48,1.20,1.33,1.18,1.22,1.29\n",
    "##ci=99%\n",
    "## to perform t-test we want s, so we compute the s(sample std deviation) and also find mean x_bar "
   ]
  },
  {
   "cell_type": "code",
   "execution_count": 48,
   "id": "d4a8d40e-b8a4-4927-944f-aabb2b64cae6",
   "metadata": {},
   "outputs": [],
   "source": [
    "import numpy as np"
   ]
  },
  {
   "cell_type": "code",
   "execution_count": 50,
   "id": "dcb2fdff-6e33-4b8c-9654-ed6c10bc4cd5",
   "metadata": {},
   "outputs": [
    {
     "data": {
      "text/plain": [
       "1.2386666666666666"
      ]
     },
     "execution_count": 50,
     "metadata": {},
     "output_type": "execute_result"
    }
   ],
   "source": [
    "x_bar=np.mean(xi)\n",
    "x_bar"
   ]
  },
  {
   "cell_type": "code",
   "execution_count": 52,
   "id": "ffa32eca-c269-49d0-a8ff-daef92a39cb9",
   "metadata": {},
   "outputs": [
    {
     "data": {
      "text/plain": [
       "array([-0.10866667,  0.31133333,  0.19133333, -0.31866667,  0.01133333,\n",
       "        0.12133333,  0.08133333, -0.38866667, -0.16866667,  0.24133333,\n",
       "       -0.03866667,  0.09133333, -0.05866667, -0.01866667,  0.05133333])"
      ]
     },
     "execution_count": 52,
     "metadata": {},
     "output_type": "execute_result"
    }
   ],
   "source": [
    "a=(xi-x_bar)\n",
    "a"
   ]
  },
  {
   "cell_type": "code",
   "execution_count": 54,
   "id": "b8e230eb-eb52-4cde-b4fe-71be40c47646",
   "metadata": {},
   "outputs": [
    {
     "data": {
      "text/plain": [
       "array([1.18084444e-02, 9.69284444e-02, 3.66084444e-02, 1.01548444e-01,\n",
       "       1.28444444e-04, 1.47217778e-02, 6.61511111e-03, 1.51061778e-01,\n",
       "       2.84484444e-02, 5.82417778e-02, 1.49511111e-03, 8.34177778e-03,\n",
       "       3.44177778e-03, 3.48444444e-04, 2.63511111e-03])"
      ]
     },
     "execution_count": 54,
     "metadata": {},
     "output_type": "execute_result"
    }
   ],
   "source": [
    "b=a**2\n",
    "b"
   ]
  },
  {
   "cell_type": "code",
   "execution_count": 56,
   "id": "d134d9ec-a490-4f55-b959-11436968705c",
   "metadata": {},
   "outputs": [
    {
     "data": {
      "text/plain": [
       "0.5223733333333335"
      ]
     },
     "execution_count": 56,
     "metadata": {},
     "output_type": "execute_result"
    }
   ],
   "source": [
    "n=15\n",
    "s=sum(b)\n",
    "s"
   ]
  },
  {
   "cell_type": "code",
   "execution_count": 58,
   "id": "3f33cce0-facb-49b9-9bd5-fc5f33e0a50f",
   "metadata": {},
   "outputs": [],
   "source": [
    "std=np.sqrt(s/14)"
   ]
  },
  {
   "cell_type": "code",
   "execution_count": 60,
   "id": "4af76cdd-2457-4800-9e64-e01ce93f4410",
   "metadata": {},
   "outputs": [
    {
     "data": {
      "text/plain": [
       "0.19316412956959936"
      ]
     },
     "execution_count": 60,
     "metadata": {},
     "output_type": "execute_result"
    }
   ],
   "source": [
    "std"
   ]
  },
  {
   "cell_type": "code",
   "execution_count": 62,
   "id": "02647990-44f6-42c9-8641-4264414887b4",
   "metadata": {},
   "outputs": [],
   "source": [
    "import scipy.stats as stats"
   ]
  },
  {
   "cell_type": "code",
   "execution_count": 64,
   "id": "4e0bedeb-1274-4ae3-915d-240e709a88d2",
   "metadata": {},
   "outputs": [],
   "source": [
    "t_critical=stats.t.ppf(0.995,14)"
   ]
  },
  {
   "cell_type": "code",
   "execution_count": 66,
   "id": "2fb26c89-0316-47ef-ad2c-00b3b86f3665",
   "metadata": {},
   "outputs": [
    {
     "data": {
      "text/plain": [
       "2.976842734370834"
      ]
     },
     "execution_count": 66,
     "metadata": {},
     "output_type": "execute_result"
    }
   ],
   "source": [
    "t_critical"
   ]
  },
  {
   "cell_type": "code",
   "execution_count": 68,
   "id": "d9f72858-61c8-4ccf-a0ec-54d7be02e564",
   "metadata": {},
   "outputs": [
    {
     "data": {
      "text/plain": [
       "0.8371613868969641"
      ]
     },
     "execution_count": 68,
     "metadata": {},
     "output_type": "execute_result"
    }
   ],
   "source": [
    "lower_lim=x_bar-t_critical*(s/np.sqrt(n))\n",
    "lower_lim"
   ]
  },
  {
   "cell_type": "code",
   "execution_count": 70,
   "id": "aec2e3ff-4673-4652-ab4b-bef534a6cf1d",
   "metadata": {},
   "outputs": [
    {
     "data": {
      "text/plain": [
       "1.640171946436369"
      ]
     },
     "execution_count": 70,
     "metadata": {},
     "output_type": "execute_result"
    }
   ],
   "source": [
    "upper_lim=x_bar+t_critical*(s/np.sqrt(n))\n",
    "upper_lim"
   ]
  },
  {
   "cell_type": "code",
   "execution_count": null,
   "id": "cbc1a1c4-a398-4b9d-8704-39edebcafb0f",
   "metadata": {},
   "outputs": [],
   "source": [
    "## The confidence interval for the mean number of characters printed before failure ranges from (0.837,1.64)"
   ]
  },
  {
   "cell_type": "code",
   "execution_count": null,
   "id": "a8f95eec-aa98-4fcc-aa19-1f0482592092",
   "metadata": {},
   "outputs": [],
   "source": [
    "## b) study on a small sample of print-heads due to the destructive nature of the testing process."
   ]
  },
  {
   "cell_type": "code",
   "execution_count": 77,
   "id": "94120501-32ea-413a-bd02-c280c7b9e0c8",
   "metadata": {},
   "outputs": [],
   "source": [
    "xi=1.13,1.55,1.43,0.92,1.25,1.36,1.32,0.85,1.07,1.48,1.20,1.33,1.18,1.22,1.29\n",
    "n=15\n",
    "sigma=0.2"
   ]
  },
  {
   "cell_type": "code",
   "execution_count": 79,
   "id": "d6fc9957-9605-446b-b0a6-e823270da4dd",
   "metadata": {},
   "outputs": [],
   "source": [
    "x_bar=np.mean(xi)"
   ]
  },
  {
   "cell_type": "code",
   "execution_count": 81,
   "id": "331ccd65-8201-4138-9d81-87e5b743f8c0",
   "metadata": {},
   "outputs": [
    {
     "data": {
      "text/plain": [
       "1.2386666666666666"
      ]
     },
     "execution_count": 81,
     "metadata": {},
     "output_type": "execute_result"
    }
   ],
   "source": [
    "x_bar"
   ]
  },
  {
   "cell_type": "code",
   "execution_count": 83,
   "id": "194a5054-e07f-44da-9c67-8ad79f36f01e",
   "metadata": {},
   "outputs": [],
   "source": [
    "import scipy.stats as stats"
   ]
  },
  {
   "cell_type": "code",
   "execution_count": 85,
   "id": "e21e21ba-3c7f-4a73-a5ff-f37a36f7e548",
   "metadata": {},
   "outputs": [],
   "source": [
    "z_critical=stats.norm.ppf(0.995)"
   ]
  },
  {
   "cell_type": "code",
   "execution_count": 87,
   "id": "698c7450-74f1-4f57-a76e-31a199b710e0",
   "metadata": {},
   "outputs": [
    {
     "data": {
      "text/plain": [
       "2.5758293035489004"
      ]
     },
     "execution_count": 87,
     "metadata": {},
     "output_type": "execute_result"
    }
   ],
   "source": [
    "z_critical"
   ]
  },
  {
   "cell_type": "code",
   "execution_count": 93,
   "id": "c97bf1d3-2d45-4e90-a1d6-0a944689eb4f",
   "metadata": {},
   "outputs": [],
   "source": [
    "lower_lim=x_bar-z_critical*(sigma/np.sqrt(n))"
   ]
  },
  {
   "cell_type": "code",
   "execution_count": 95,
   "id": "197a0082-dec4-4f9e-8c36-d55ef7a334ac",
   "metadata": {},
   "outputs": [
    {
     "data": {
      "text/plain": [
       "1.1056514133957607"
      ]
     },
     "execution_count": 95,
     "metadata": {},
     "output_type": "execute_result"
    }
   ],
   "source": [
    "lower_lim"
   ]
  },
  {
   "cell_type": "code",
   "execution_count": 97,
   "id": "cf2e1148-6cc3-4db9-a75d-86302c2d7f0f",
   "metadata": {},
   "outputs": [],
   "source": [
    "upper_lim=x_bar+z_critical*(sigma/np.sqrt(n))"
   ]
  },
  {
   "cell_type": "code",
   "execution_count": 99,
   "id": "384c7b85-a078-4529-9fb0-399911678dce",
   "metadata": {},
   "outputs": [
    {
     "data": {
      "text/plain": [
       "1.3716819199375725"
      ]
     },
     "execution_count": 99,
     "metadata": {},
     "output_type": "execute_result"
    }
   ],
   "source": [
    "upper_lim"
   ]
  },
  {
   "cell_type": "code",
   "execution_count": null,
   "id": "4f4226bf-6a80-440b-b896-d31a4ef4a49d",
   "metadata": {},
   "outputs": [],
   "source": [
    "## To  confidence interval for the mean number of characters printed before failure ranges from (1.105,1.371)"
   ]
  }
 ],
 "metadata": {
  "kernelspec": {
   "display_name": "Python 3 (ipykernel)",
   "language": "python",
   "name": "python3"
  },
  "language_info": {
   "codemirror_mode": {
    "name": "ipython",
    "version": 3
   },
   "file_extension": ".py",
   "mimetype": "text/x-python",
   "name": "python",
   "nbconvert_exporter": "python",
   "pygments_lexer": "ipython3",
   "version": "3.12.4"
  }
 },
 "nbformat": 4,
 "nbformat_minor": 5
}
