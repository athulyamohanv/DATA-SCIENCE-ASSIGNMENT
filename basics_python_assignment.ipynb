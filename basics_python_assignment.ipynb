{
 "cells": [
  {
   "cell_type": "code",
   "execution_count": 30,
   "id": "fead662b-0b59-4bb1-a37b-0634d69b7dfb",
   "metadata": {},
   "outputs": [
    {
     "name": "stdin",
     "output_type": "stream",
     "text": [
      "ENTER A NUMBER: 4\n"
     ]
    },
    {
     "name": "stdout",
     "output_type": "stream",
     "text": [
      "4 is not prime number\n"
     ]
    }
   ],
   "source": [
    "##QUESTION-1\n",
    "\n",
    "n=int(input(\"ENTER A NUMBER:\"))\n",
    "for i in range(2,n):\n",
    "    if(n%i)==0:\n",
    "        print(n,'is not prime number')\n",
    "        break\n",
    "else:\n",
    "    print(n,'is a prime number')\n",
    "\n",
    "      "
   ]
  },
  {
   "cell_type": "code",
   "execution_count": null,
   "id": "bf4ffc3d-7144-468e-ac97-9685806bc492",
   "metadata": {},
   "outputs": [],
   "source": [
    "##QUESTION -2"
   ]
  },
  {
   "cell_type": "code",
   "execution_count": 32,
   "id": "b0f2ecb4-3860-4ef1-83d1-6e1934491748",
   "metadata": {},
   "outputs": [],
   "source": [
    "import random"
   ]
  },
  {
   "cell_type": "code",
   "execution_count": 34,
   "id": "1f1e2b79-78c3-4b7a-b226-d13b30d68c16",
   "metadata": {},
   "outputs": [],
   "source": [
    "n1=random.randint(1,10)"
   ]
  },
  {
   "cell_type": "code",
   "execution_count": 36,
   "id": "4f148ca6-8d9d-432d-9d99-53ff3583208d",
   "metadata": {},
   "outputs": [
    {
     "data": {
      "text/plain": [
       "9"
      ]
     },
     "execution_count": 36,
     "metadata": {},
     "output_type": "execute_result"
    }
   ],
   "source": [
    "n1\n"
   ]
  },
  {
   "cell_type": "code",
   "execution_count": 38,
   "id": "cc8a7904-5b5d-4149-870c-0ad049a53f4b",
   "metadata": {},
   "outputs": [
    {
     "data": {
      "text/plain": [
       "6"
      ]
     },
     "execution_count": 38,
     "metadata": {},
     "output_type": "execute_result"
    }
   ],
   "source": [
    "n2=random.randint(1,10)\n",
    "n2"
   ]
  },
  {
   "cell_type": "code",
   "execution_count": 40,
   "id": "114373f7-335f-48bf-b38f-9a46c74c8876",
   "metadata": {},
   "outputs": [],
   "source": [
    "n=n1*n2"
   ]
  },
  {
   "cell_type": "code",
   "execution_count": 42,
   "id": "d71e7c9c-13c1-48b2-afcd-753f68ea9c0a",
   "metadata": {},
   "outputs": [
    {
     "data": {
      "text/plain": [
       "54"
      ]
     },
     "execution_count": 42,
     "metadata": {},
     "output_type": "execute_result"
    }
   ],
   "source": [
    "n"
   ]
  },
  {
   "cell_type": "code",
   "execution_count": 50,
   "id": "82406ebe-0fbb-43da-9d81-43f70162fec9",
   "metadata": {},
   "outputs": [
    {
     "name": "stdin",
     "output_type": "stream",
     "text": [
      "what is the product of {n1} and {n2}? 23\n"
     ]
    },
    {
     "data": {
      "text/plain": [
       "23"
      ]
     },
     "execution_count": 50,
     "metadata": {},
     "output_type": "execute_result"
    }
   ],
   "source": [
    "user_answer=int(input('what is the product of {n1} and {n2}?'))\n",
    "user_answer"
   ]
  },
  {
   "cell_type": "code",
   "execution_count": 52,
   "id": "e6d7f4c0-b975-4d3a-95cd-aa92ae53a0c4",
   "metadata": {},
   "outputs": [
    {
     "name": "stdout",
     "output_type": "stream",
     "text": [
      "Sorry 54\n"
     ]
    }
   ],
   "source": [
    "if user_answer==n:\n",
    "    print(\"Correct\",n)\n",
    "else:\n",
    "    print(\"Sorry\",n)\n",
    "\n"
   ]
  },
  {
   "cell_type": "code",
   "execution_count": null,
   "id": "1454835f-af2b-4217-9665-fbbf8ee9ef0e",
   "metadata": {},
   "outputs": [],
   "source": [
    "## QUESTION-3"
   ]
  },
  {
   "cell_type": "code",
   "execution_count": 54,
   "id": "ac67fdfc-c3d3-4708-b92b-8e9d8eb97167",
   "metadata": {},
   "outputs": [
    {
     "name": "stdout",
     "output_type": "stream",
     "text": [
      "[10000, 10404, 10816, 11236, 11664, 12100, 12544, 12996, 13456, 13924, 14400, 14884, 15376, 15876, 16384, 16900, 17424, 17956, 18496, 19044, 19600, 20164, 20736, 21316, 21904, 22500, 23104, 23716, 24336, 24964, 25600, 26244, 26896, 27556, 28224, 28900, 29584, 30276, 30976, 31684, 32400, 33124, 33856, 34596, 35344, 36100, 36864, 37636, 38416, 39204, 40000]\n"
     ]
    }
   ],
   "source": [
    "choice=\"even\"\n",
    "n=range(100,201)\n",
    "squares= []\n",
    "for num in n:\n",
    "    if choice==\"even\" and num%2==0:\n",
    "        squares.append(num**2)\n",
    "    elif choice==\"odd\" and num%2!=0:\n",
    "        squares.append(num**2)\n",
    "print(squares)\n"
   ]
  },
  {
   "cell_type": "code",
   "execution_count": null,
   "id": "0b975f29-4f01-445f-87b5-8b0dab43436e",
   "metadata": {},
   "outputs": [],
   "source": [
    "## QUESTION- 4"
   ]
  },
  {
   "cell_type": "code",
   "execution_count": 11,
   "id": "2fe6aed7-30e3-4494-bbfd-2f54517ed602",
   "metadata": {},
   "outputs": [
    {
     "name": "stdout",
     "output_type": "stream",
     "text": [
      "3\n"
     ]
    }
   ],
   "source": [
    "s=\"This is a sample text.This text will be used to demonstrate the word counter.\"\n",
    "print(s.count('a'))\n"
   ]
  },
  {
   "cell_type": "code",
   "execution_count": 13,
   "id": "97159673-71dd-45ef-b286-68224c68d767",
   "metadata": {},
   "outputs": [
    {
     "name": "stdout",
     "output_type": "stream",
     "text": [
      "3\n"
     ]
    }
   ],
   "source": [
    "print(s.count('is'))"
   ]
  },
  {
   "cell_type": "code",
   "execution_count": 15,
   "id": "d50aca57-e82c-483f-92c4-a6dc2a728df3",
   "metadata": {},
   "outputs": [
    {
     "name": "stdout",
     "output_type": "stream",
     "text": [
      "1\n"
     ]
    }
   ],
   "source": [
    "print(s.count('sample'))"
   ]
  },
  {
   "cell_type": "code",
   "execution_count": 17,
   "id": "db28c58a-6348-45bd-b671-f070e0b59987",
   "metadata": {},
   "outputs": [
    {
     "name": "stdout",
     "output_type": "stream",
     "text": [
      "2\n"
     ]
    }
   ],
   "source": [
    "print(s.count('text'))"
   ]
  },
  {
   "cell_type": "code",
   "execution_count": 19,
   "id": "8614a297-87a0-4cf2-b036-5175661c17c7",
   "metadata": {},
   "outputs": [
    {
     "name": "stdout",
     "output_type": "stream",
     "text": [
      "2\n"
     ]
    }
   ],
   "source": [
    "print(s.count('This'))"
   ]
  },
  {
   "cell_type": "code",
   "execution_count": null,
   "id": "f85c88af-7a83-4927-bdc9-5ef67a033981",
   "metadata": {},
   "outputs": [],
   "source": [
    "## QUESTION-5"
   ]
  },
  {
   "cell_type": "code",
   "execution_count": 74,
   "id": "5a521952-b76a-415b-b75a-a07e8353d541",
   "metadata": {},
   "outputs": [],
   "source": [
    "def is_palindrome(s):\n",
    "    s=s.replace(\" \",\"\").lower()\n",
    "    return s  == s[::-1]\n",
    "   "
   ]
  },
  {
   "cell_type": "code",
   "execution_count": 76,
   "id": "39288f25-9617-4e2b-97f5-44478e2a7940",
   "metadata": {},
   "outputs": [
    {
     "name": "stdin",
     "output_type": "stream",
     "text": [
      "Enter the string: racecar\n"
     ]
    },
    {
     "name": "stdout",
     "output_type": "stream",
     "text": [
      "the string is a palindrome\n"
     ]
    }
   ],
   "source": [
    "string= input(\"Enter the string:\")\n",
    "if is_palindrome(string):\n",
    "    print(\"the string is a palindrome\")\n",
    "else:\n",
    "    print(\"the string is not a palindrome\")"
   ]
  },
  {
   "cell_type": "code",
   "execution_count": null,
   "id": "64aef6b3-9254-4d2b-9371-dc24830dc6c4",
   "metadata": {},
   "outputs": [],
   "source": []
  },
  {
   "cell_type": "code",
   "execution_count": null,
   "id": "05fe29cd-e2cb-41aa-b0cf-bd7724f1748d",
   "metadata": {},
   "outputs": [],
   "source": []
  }
 ],
 "metadata": {
  "kernelspec": {
   "display_name": "Python 3 (ipykernel)",
   "language": "python",
   "name": "python3"
  },
  "language_info": {
   "codemirror_mode": {
    "name": "ipython",
    "version": 3
   },
   "file_extension": ".py",
   "mimetype": "text/x-python",
   "name": "python",
   "nbconvert_exporter": "python",
   "pygments_lexer": "ipython3",
   "version": "3.12.4"
  }
 },
 "nbformat": 4,
 "nbformat_minor": 5
}
