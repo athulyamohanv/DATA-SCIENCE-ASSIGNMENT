{
 "cells": [
  {
   "cell_type": "markdown",
   "id": "8fdc317f-75af-4354-8ed5-60210324e263",
   "metadata": {},
   "source": [
    "## HYPOTHESIS TESTING"
   ]
  },
  {
   "cell_type": "code",
   "execution_count": null,
   "id": "51b2c655-67b2-4f23-a1a4-13864ea84bd1",
   "metadata": {},
   "outputs": [],
   "source": [
    "## 1) The Hypotheses statement:"
   ]
  },
  {
   "cell_type": "code",
   "execution_count": null,
   "id": "4506ad5b-cb06-479e-9efb-cd6307546c2d",
   "metadata": {},
   "outputs": [],
   "source": [
    "##  H0: Decrease in weekly operating costs \n",
    "##  Ha: increase in weekly operating costs "
   ]
  },
  {
   "cell_type": "code",
   "execution_count": null,
   "id": "419ed03f-1662-4b42-a319-b73ddb36dc12",
   "metadata": {},
   "outputs": [],
   "source": [
    "## 2)Calculate the Test Statistic:"
   ]
  },
  {
   "cell_type": "code",
   "execution_count": 17,
   "id": "5cce2736-563b-4ea9-b818-c518dca4c8f2",
   "metadata": {},
   "outputs": [],
   "source": [
    "n=25\n",
    "sample_mean= 3050\n",
    "units_produced_mean= 600\n",
    "std_dev_units= 25\n",
    "theoretical_mean = 1000 + 5 * units_produced_mean\n",
    "alpha= 0.05"
   ]
  },
  {
   "cell_type": "code",
   "execution_count": 27,
   "id": "f9592a55-6b19-4c64-800d-e1dcefc65722",
   "metadata": {},
   "outputs": [
    {
     "data": {
      "text/plain": [
       "4000"
      ]
     },
     "execution_count": 27,
     "metadata": {},
     "output_type": "execute_result"
    }
   ],
   "source": [
    "theoretical_mean"
   ]
  },
  {
   "cell_type": "code",
   "execution_count": 29,
   "id": "2946396b-4f6f-4586-ad92-9b9a2c182ba5",
   "metadata": {},
   "outputs": [],
   "source": [
    "std_dev_weekly_cost = 5 * std_dev_units"
   ]
  },
  {
   "cell_type": "code",
   "execution_count": 31,
   "id": "4233996b-77e1-4bf1-a697-3f81d51efd4a",
   "metadata": {},
   "outputs": [
    {
     "data": {
      "text/plain": [
       "125"
      ]
     },
     "execution_count": 31,
     "metadata": {},
     "output_type": "execute_result"
    }
   ],
   "source": [
    "std_dev_weekly_cost"
   ]
  },
  {
   "cell_type": "code",
   "execution_count": 33,
   "id": "3cec70de-5f5e-4a36-bd4a-c52fd89b3049",
   "metadata": {},
   "outputs": [],
   "source": [
    "## to calculate test statistics, here we  can use t-test"
   ]
  },
  {
   "cell_type": "code",
   "execution_count": 35,
   "id": "1bd4352b-e1f2-4f28-9a2f-f09e5e1cf353",
   "metadata": {},
   "outputs": [],
   "source": [
    "import numpy as np\n",
    "import math\n"
   ]
  },
  {
   "cell_type": "code",
   "execution_count": 37,
   "id": "41937cb7-666b-482e-81d6-c7996cca905c",
   "metadata": {},
   "outputs": [],
   "source": [
    "t_stat= (sample_mean-theoretical_mean)/(std_dev_weekly_cost/math.sqrt(n))"
   ]
  },
  {
   "cell_type": "code",
   "execution_count": 39,
   "id": "515f4c81-4530-4440-8a57-a18f2eb4f278",
   "metadata": {},
   "outputs": [
    {
     "data": {
      "text/plain": [
       "-38.0"
      ]
     },
     "execution_count": 39,
     "metadata": {},
     "output_type": "execute_result"
    }
   ],
   "source": [
    "t_stat"
   ]
  },
  {
   "cell_type": "code",
   "execution_count": 41,
   "id": "a0f4540d-24ac-455a-93cc-61027ca11c6f",
   "metadata": {},
   "outputs": [],
   "source": [
    "## 3) Determine the Critical Value:"
   ]
  },
  {
   "cell_type": "code",
   "execution_count": 48,
   "id": "b662fb05-d9af-4dac-b405-4d018623f3b7",
   "metadata": {},
   "outputs": [
    {
     "data": {
      "text/plain": [
       "1.6448536269514722"
      ]
     },
     "execution_count": 48,
     "metadata": {},
     "output_type": "execute_result"
    }
   ],
   "source": [
    "import scipy.stats as stats\n",
    "t_critical=stats.norm.ppf(1-alpha)\n",
    "t_critical"
   ]
  },
  {
   "cell_type": "code",
   "execution_count": null,
   "id": "4181f7f1-8e7b-4719-a383-41f2912a3715",
   "metadata": {},
   "outputs": [],
   "source": [
    "## concluion\n",
    "## t_stat < than the t_critical and accept H0\n",
    "## Then we can conclude that there is decreasing in weekly operating cost\n"
   ]
  },
  {
   "cell_type": "code",
   "execution_count": null,
   "id": "ecae5b3f-6361-40aa-b7c4-69722f22eee2",
   "metadata": {},
   "outputs": [],
   "source": [
    "\n"
   ]
  },
  {
   "cell_type": "markdown",
   "id": "6e68c356-9fc3-4f17-8c6f-a4d10404d155",
   "metadata": {},
   "source": [
    "## CHI-SQUARE TEST"
   ]
  },
  {
   "cell_type": "code",
   "execution_count": null,
   "id": "967f6fa1-dfdf-4505-bae2-a0e44856a2bb",
   "metadata": {},
   "outputs": [],
   "source": [
    "## 1) Hypothesis testing  statement"
   ]
  },
  {
   "cell_type": "code",
   "execution_count": null,
   "id": "54b1f217-676d-49a0-9ff2-beeddb9b93b4",
   "metadata": {},
   "outputs": [],
   "source": [
    "##---- H0: There is no a significant association between the type of smart home device purchased (Smart Thermostats vs. Smart Lights) and the customer satisfaction level.\n",
    "##---- Ha: There is  a significant association between the type of smart home device purchased (Smart Thermostats vs. Smart Lights) and the customer satisfaction level."
   ]
  },
  {
   "cell_type": "code",
   "execution_count": 54,
   "id": "201bf48d-897a-48b7-945b-8831b55d3f9c",
   "metadata": {},
   "outputs": [],
   "source": [
    "import numpy as np"
   ]
  },
  {
   "cell_type": "code",
   "execution_count": 56,
   "id": "299a302c-cdba-4ee6-8000-8c34c986bd9e",
   "metadata": {},
   "outputs": [],
   "source": [
    "import scipy.stats as stats"
   ]
  },
  {
   "cell_type": "code",
   "execution_count": 58,
   "id": "2da909fa-b01d-4469-b0cf-562d06d5386a",
   "metadata": {},
   "outputs": [],
   "source": [
    "observed=np.array([[50,70],[80,100],[60,90],[30,50],[20,50]])\n"
   ]
  },
  {
   "cell_type": "code",
   "execution_count": 60,
   "id": "052dacf1-6664-4642-9671-c52c8527fa40",
   "metadata": {},
   "outputs": [
    {
     "data": {
      "text/plain": [
       "array([[ 50,  70],\n",
       "       [ 80, 100],\n",
       "       [ 60,  90],\n",
       "       [ 30,  50],\n",
       "       [ 20,  50]])"
      ]
     },
     "execution_count": 60,
     "metadata": {},
     "output_type": "execute_result"
    }
   ],
   "source": [
    "observed"
   ]
  },
  {
   "cell_type": "code",
   "execution_count": 64,
   "id": "b2df7c43-4d42-402c-9dc0-981f2ef523bf",
   "metadata": {},
   "outputs": [],
   "source": [
    "expected=stats.chi2_contingency(observed)"
   ]
  },
  {
   "cell_type": "code",
   "execution_count": 66,
   "id": "208728b4-9f32-4af6-9a3b-9e20ddc24805",
   "metadata": {},
   "outputs": [
    {
     "data": {
      "text/plain": [
       "Chi2ContingencyResult(statistic=5.638227513227513, pvalue=0.22784371130697179, dof=4, expected_freq=array([[ 48.,  72.],\n",
       "       [ 72., 108.],\n",
       "       [ 60.,  90.],\n",
       "       [ 32.,  48.],\n",
       "       [ 28.,  42.]]))"
      ]
     },
     "execution_count": 66,
     "metadata": {},
     "output_type": "execute_result"
    }
   ],
   "source": [
    "expected"
   ]
  },
  {
   "cell_type": "code",
   "execution_count": 68,
   "id": "3092d18c-cb72-4322-b2ca-f2f284838387",
   "metadata": {},
   "outputs": [],
   "source": [
    "\n",
    "alpha=0.05"
   ]
  },
  {
   "cell_type": "code",
   "execution_count": 70,
   "id": "f2a67b19-ec6b-4c3e-baf8-bd0209c4cf2a",
   "metadata": {},
   "outputs": [
    {
     "data": {
      "text/plain": [
       "9.487729036781154"
      ]
     },
     "execution_count": 70,
     "metadata": {},
     "output_type": "execute_result"
    }
   ],
   "source": [
    "chi_critical=stats.chi2.ppf(0.95,4)\n",
    "chi_critical"
   ]
  },
  {
   "cell_type": "code",
   "execution_count": null,
   "id": "a6ad0164-abf6-4940-beb0-42626d52472a",
   "metadata": {},
   "outputs": [],
   "source": [
    "# Conclusion\n",
    "# since the chi-square static(5.64) < chi-critical(9.49), fail to reject the H0\n",
    "## and conclude that there is  a significant association between the type of smart home device purchased (Smart Thermostats vs. Smart Lights) and the customer satisfaction level."
   ]
  }
 ],
 "metadata": {
  "kernelspec": {
   "display_name": "Python 3 (ipykernel)",
   "language": "python",
   "name": "python3"
  },
  "language_info": {
   "codemirror_mode": {
    "name": "ipython",
    "version": 3
   },
   "file_extension": ".py",
   "mimetype": "text/x-python",
   "name": "python",
   "nbconvert_exporter": "python",
   "pygments_lexer": "ipython3",
   "version": "3.12.4"
  }
 },
 "nbformat": 4,
 "nbformat_minor": 5
}
